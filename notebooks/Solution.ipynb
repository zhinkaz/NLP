{
 "cells": [
  {
   "attachments": {},
   "cell_type": "markdown",
   "metadata": {},
   "source": [
    "Instalar `jsonlines` [click acá para ver documentación](https://jsonlines.readthedocs.io/en/latest/)\n",
    "\n",
    "```bash\n",
    "pip install jsonlines\n",
    "conda install jsonlines\n",
    "mamba install jsonlines\n",
    "```"
   ]
  },
  {
   "cell_type": "code",
   "execution_count": 1,
   "metadata": {},
   "outputs": [
    {
     "data": {
      "text/plain": [
       "{'titulo': 'Caratulado: DUEÑAS/SERVICIO NACIONAL DE MIGRACIONES',\n",
       " 'rol': '170550-2022',\n",
       " 'materia': '',\n",
       " 'submateria': '',\n",
       " 'categorias': ['Migración y Extranjería',\n",
       "  'Visa o permiso',\n",
       "  'Requisitos del recurso de protección',\n",
       "  'Cédula de identidad para extranjeros',\n",
       "  'Plazo de seis meses',\n",
       "  'Plazo razonable',\n",
       "  'Principio de colaboración',\n",
       "  'Principio de cooperación',\n",
       "  'Situación migratoria regular',\n",
       "  'Servicio nacional de migraciones',\n",
       "  'Omisión de pronunciamiento de solicitud de permanencia definitiva',\n",
       "  'Solicitud de visa en trámite',\n",
       "  'Migración y extranjería',\n",
       "  'No existen hechos que constituyan vulneración de garantías constitucionales',\n",
       "  'Procedimiento reglado',\n",
       "  'Vigencia de cédula de identidad',\n",
       "  'Plazo no fatal para la administración'],\n",
       " 'sala': 'TERCERA, CONSTITUCIONAL',\n",
       " 'resultado_recurso': 'REVOCADA SENTENCIA APELADA QUE',\n",
       " 'tipo_recurso': '(CIVIL) APELACIÓN PROTECCIÓN',\n",
       " 'enlace_sentencia': 'https://juris.pjud.cl/busqueda/u?cql20',\n",
       " 'sentencia': 'Santiago, diez de mayo de dos mil veintitrés.Vistos:Se reproduce el fallo en alzada, con excepción de los fundamentos que razonan en el sentido de acoger el recurso de protección, los que se eliminan.Y se tiene en su lugar, y además, presente:Primero: Que la presente acción constitucional de protección dirigida en contra del Servicio Nacional de Migraciones, se interpone por la omisión en que habría incurrido el servicio referido, respecto de su solicitud de permane...'}"
      ]
     },
     "execution_count": 1,
     "metadata": {},
     "output_type": "execute_result"
    }
   ],
   "source": [
    "import jsonlines\n",
    "\n",
    "with jsonlines.open('../data/sentencias.jsonl') as reader:\n",
    "    sentences = reader.read()\n",
    "    \n",
    "sentences[0]"
   ]
  },
  {
   "cell_type": "code",
   "execution_count": null,
   "metadata": {},
   "outputs": [],
   "source": []
  }
 ],
 "metadata": {
  "kernelspec": {
   "display_name": "Python 3.11 (pytorch)",
   "language": "python",
   "name": "pytorch-3.11"
  },
  "language_info": {
   "codemirror_mode": {
    "name": "ipython",
    "version": 3
   },
   "file_extension": ".py",
   "mimetype": "text/x-python",
   "name": "python",
   "nbconvert_exporter": "python",
   "pygments_lexer": "ipython3",
   "version": "3.11.3"
  },
  "orig_nbformat": 4
 },
 "nbformat": 4,
 "nbformat_minor": 2
}
